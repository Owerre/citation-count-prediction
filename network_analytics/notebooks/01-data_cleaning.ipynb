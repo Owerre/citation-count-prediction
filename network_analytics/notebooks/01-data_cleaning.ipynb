{
 "cells": [
  {
   "cell_type": "markdown",
   "metadata": {},
   "source": [
    "# Data Cleaning"
   ]
  },
  {
   "cell_type": "code",
   "execution_count": 75,
   "metadata": {
    "tags": []
   },
   "outputs": [],
   "source": [
    "# Ignore deprecated warning\n",
    "import warnings\n",
    "warnings.filterwarnings(\"ignore\")\n",
    "\n",
    "# Data manipulation\n",
    "%matplotlib inline\n",
    "import pandas as pd\n",
    "import numpy as np\n",
    "import string\n",
    "import nltk\n",
    "import ast\n",
    "\n",
    "# Pyspark modules\n",
    "from pyspark.sql import SparkSession\n",
    "from pyspark import sql, SparkContext, SparkConf\n",
    "from pyspark.sql.functions import *"
   ]
  },
  {
   "cell_type": "code",
   "execution_count": 76,
   "metadata": {},
   "outputs": [],
   "source": [
    "# Create spark session\n",
    "spark = SparkSession.builder.appName(\"project\").getOrCreate()"
   ]
  },
  {
   "cell_type": "markdown",
   "metadata": {},
   "source": [
    "# Load raw data"
   ]
  },
  {
   "cell_type": "code",
   "execution_count": 77,
   "metadata": {},
   "outputs": [
    {
     "name": "stdout",
     "output_type": "stream",
     "text": [
      "Data size: (295174, 20)\n"
     ]
    },
    {
     "data": {
      "text/html": [
       "<div>\n",
       "<style scoped>\n",
       "    .dataframe tbody tr th:only-of-type {\n",
       "        vertical-align: middle;\n",
       "    }\n",
       "\n",
       "    .dataframe tbody tr th {\n",
       "        vertical-align: top;\n",
       "    }\n",
       "\n",
       "    .dataframe thead th {\n",
       "        text-align: right;\n",
       "    }\n",
       "</style>\n",
       "<table border=\"1\" class=\"dataframe\">\n",
       "  <thead>\n",
       "    <tr style=\"text-align: right;\">\n",
       "      <th></th>\n",
       "      <th>arXiv_id</th>\n",
       "      <th>year</th>\n",
       "      <th>authors</th>\n",
       "      <th>title</th>\n",
       "    </tr>\n",
       "  </thead>\n",
       "  <tbody>\n",
       "    <tr>\n",
       "      <th>202110</th>\n",
       "      <td>2007.12345</td>\n",
       "      <td>2020</td>\n",
       "      <td>['KumarParveen', 'SnizhkoKyrylo']</td>\n",
       "      <td>Comment on \"How to observe and quantify quantu...</td>\n",
       "    </tr>\n",
       "    <tr>\n",
       "      <th>271858</th>\n",
       "      <td>cond-mat/9604036</td>\n",
       "      <td>1996</td>\n",
       "      <td>['FavandJulien', 'MilaFrédéric']</td>\n",
       "      <td>Theory of the optical conductivity of (TMTSF)$...</td>\n",
       "    </tr>\n",
       "    <tr>\n",
       "      <th>271328</th>\n",
       "      <td>cond-mat/9601031</td>\n",
       "      <td>1996</td>\n",
       "      <td>['DotsenkoA. V.', 'SushkovO. P.']</td>\n",
       "      <td>Temperature dependence of the electron chemica...</td>\n",
       "    </tr>\n",
       "    <tr>\n",
       "      <th>144754</th>\n",
       "      <td>1705.10025</td>\n",
       "      <td>2017</td>\n",
       "      <td>['TangGaomin', 'ChenXiaobin', 'RenJie', 'WangJ...</td>\n",
       "      <td>Rectifying full-counting statistics in a spin ...</td>\n",
       "    </tr>\n",
       "    <tr>\n",
       "      <th>220627</th>\n",
       "      <td>cond-mat/0111331</td>\n",
       "      <td>2001</td>\n",
       "      <td>['LefèvreA.', 'DeanD. S.']</td>\n",
       "      <td>Phase transitions in the steady state behavior...</td>\n",
       "    </tr>\n",
       "  </tbody>\n",
       "</table>\n",
       "</div>"
      ],
      "text/plain": [
       "                arXiv_id  year  \\\n",
       "202110        2007.12345  2020   \n",
       "271858  cond-mat/9604036  1996   \n",
       "271328  cond-mat/9601031  1996   \n",
       "144754        1705.10025  2017   \n",
       "220627  cond-mat/0111331  2001   \n",
       "\n",
       "                                                  authors  \\\n",
       "202110                  ['KumarParveen', 'SnizhkoKyrylo']   \n",
       "271858                   ['FavandJulien', 'MilaFrédéric']   \n",
       "271328                  ['DotsenkoA. V.', 'SushkovO. P.']   \n",
       "144754  ['TangGaomin', 'ChenXiaobin', 'RenJie', 'WangJ...   \n",
       "220627                         ['LefèvreA.', 'DeanD. S.']   \n",
       "\n",
       "                                                    title  \n",
       "202110  Comment on \"How to observe and quantify quantu...  \n",
       "271858  Theory of the optical conductivity of (TMTSF)$...  \n",
       "271328  Temperature dependence of the electron chemica...  \n",
       "144754  Rectifying full-counting statistics in a spin ...  \n",
       "220627  Phase transitions in the steady state behavior...  "
      ]
     },
     "execution_count": 77,
     "metadata": {},
     "output_type": "execute_result"
    }
   ],
   "source": [
    "base_path = '/Users/sowerre/Documents/Python/ML-projects/arXiv_papers'\n",
    "df = pd.read_csv(base_path + \"/citation_prediction/data/data_processed.csv\", sep = '\\t')\n",
    "\n",
    "df = df[list(df.columns)].astype(str) # convert to string\n",
    "\n",
    "print(\"Data size:\", df.shape)\n",
    "cols = ['arXiv_id', 'year','authors', 'title']\n",
    "df[cols].sample(frac = 1).head()"
   ]
  },
  {
   "cell_type": "markdown",
   "metadata": {},
   "source": [
    "# Preprocessing of raw data\n",
    "The authors column is a string representation of a list, which needs to be converted to a list of authors"
   ]
  },
  {
   "cell_type": "code",
   "execution_count": 78,
   "metadata": {},
   "outputs": [],
   "source": [
    "def string_to_list(x):\n",
    "    \"\"\"\n",
    "    Convert string representation of list to a list\n",
    "    \n",
    "    Parameter\n",
    "    ---------\n",
    "    x: string representation of list. E.g. x = '[ \"a\",\"b\",\"c\" ]'\n",
    "    \n",
    "    Returns\n",
    "    -------\n",
    "    list of strings. E.g. x = [\"a\",\"b\",\"c\"]\n",
    "    \n",
    "    \"\"\"\n",
    "    x = ast.literal_eval(x)\n",
    "    return x"
   ]
  },
  {
   "cell_type": "code",
   "execution_count": 79,
   "metadata": {},
   "outputs": [],
   "source": [
    "df.authors = df.authors.apply(string_to_list)"
   ]
  },
  {
   "cell_type": "markdown",
   "metadata": {},
   "source": [
    "# Edgelist dataframe\n",
    "Paper-author edgelist dataframe to be used in network analytics"
   ]
  },
  {
   "cell_type": "code",
   "execution_count": 80,
   "metadata": {},
   "outputs": [],
   "source": [
    "# list of papers & authors\n",
    "paper_author_list =[] \n",
    "for i in np.arange(len(df)):\n",
    "    content =(df.arXiv_id.iloc[i], df.authors.iloc[i])\n",
    "    paper_author_list.append(content)"
   ]
  },
  {
   "cell_type": "code",
   "execution_count": 84,
   "metadata": {},
   "outputs": [
    {
     "data": {
      "text/plain": [
       "[('704.007', ['YanzhangHe', 'ChengguangBao']),\n",
       " ('704.0082', ['KurosakiTetsuo', 'WadatiMiki'])]"
      ]
     },
     "execution_count": 84,
     "metadata": {},
     "output_type": "execute_result"
    }
   ],
   "source": [
    "paper_author_list[10:12]"
   ]
  },
  {
   "cell_type": "code",
   "execution_count": 85,
   "metadata": {},
   "outputs": [],
   "source": [
    "# create edge list dataframe\n",
    "pdf_net = pd.concat(\n",
    "    [pd.DataFrame({'arXiv_id':paper_author_list[i][0], \n",
    "                   'author':paper_author_list[i][1], \n",
    "                   'rsp': 1}) \n",
    "     for i, val in enumerate(paper_author_list)\n",
    "    ],\n",
    "    ignore_index = True\n",
    ")"
   ]
  },
  {
   "cell_type": "code",
   "execution_count": 86,
   "metadata": {},
   "outputs": [],
   "source": [
    "# add year posted to the edgelist\n",
    "pdf_net = pdf_net.merge(df[['arXiv_id', 'year']], how = 'left', on = ['arXiv_id'])"
   ]
  },
  {
   "cell_type": "code",
   "execution_count": 87,
   "metadata": {},
   "outputs": [
    {
     "name": "stdout",
     "output_type": "stream",
     "text": [
      "Data size: (1148170, 5)\n"
     ]
    },
    {
     "data": {
      "text/html": [
       "<div>\n",
       "<style scoped>\n",
       "    .dataframe tbody tr th:only-of-type {\n",
       "        vertical-align: middle;\n",
       "    }\n",
       "\n",
       "    .dataframe tbody tr th {\n",
       "        vertical-align: top;\n",
       "    }\n",
       "\n",
       "    .dataframe thead th {\n",
       "        text-align: right;\n",
       "    }\n",
       "</style>\n",
       "<table border=\"1\" class=\"dataframe\">\n",
       "  <thead>\n",
       "    <tr style=\"text-align: right;\">\n",
       "      <th></th>\n",
       "      <th>arXiv_id</th>\n",
       "      <th>author</th>\n",
       "      <th>rsp</th>\n",
       "      <th>year</th>\n",
       "      <th>length_auth</th>\n",
       "    </tr>\n",
       "  </thead>\n",
       "  <tbody>\n",
       "    <tr>\n",
       "      <th>0</th>\n",
       "      <td>1311.0064</td>\n",
       "      <td>2</td>\n",
       "      <td>1</td>\n",
       "      <td>2013</td>\n",
       "      <td>1</td>\n",
       "    </tr>\n",
       "    <tr>\n",
       "      <th>1</th>\n",
       "      <td>cond-mat/0602531</td>\n",
       "      <td>.</td>\n",
       "      <td>1</td>\n",
       "      <td>2006</td>\n",
       "      <td>1</td>\n",
       "    </tr>\n",
       "    <tr>\n",
       "      <th>2</th>\n",
       "      <td>cond-mat/0307090</td>\n",
       "      <td>.</td>\n",
       "      <td>1</td>\n",
       "      <td>2003</td>\n",
       "      <td>1</td>\n",
       "    </tr>\n",
       "    <tr>\n",
       "      <th>3</th>\n",
       "      <td>1204.6071</td>\n",
       "      <td>1</td>\n",
       "      <td>1</td>\n",
       "      <td>2012</td>\n",
       "      <td>1</td>\n",
       "    </tr>\n",
       "    <tr>\n",
       "      <th>4</th>\n",
       "      <td>1006.1851</td>\n",
       "      <td>.</td>\n",
       "      <td>1</td>\n",
       "      <td>2010</td>\n",
       "      <td>1</td>\n",
       "    </tr>\n",
       "    <tr>\n",
       "      <th>5</th>\n",
       "      <td>1002.3276</td>\n",
       "      <td>.</td>\n",
       "      <td>1</td>\n",
       "      <td>2010</td>\n",
       "      <td>1</td>\n",
       "    </tr>\n",
       "    <tr>\n",
       "      <th>6</th>\n",
       "      <td>cond-mat/0512080</td>\n",
       "      <td>.</td>\n",
       "      <td>1</td>\n",
       "      <td>2005</td>\n",
       "      <td>1</td>\n",
       "    </tr>\n",
       "    <tr>\n",
       "      <th>7</th>\n",
       "      <td>710.0054</td>\n",
       "      <td>;</td>\n",
       "      <td>1</td>\n",
       "      <td>2007</td>\n",
       "      <td>1</td>\n",
       "    </tr>\n",
       "    <tr>\n",
       "      <th>8</th>\n",
       "      <td>1611.04355</td>\n",
       "      <td>a</td>\n",
       "      <td>1</td>\n",
       "      <td>2016</td>\n",
       "      <td>1</td>\n",
       "    </tr>\n",
       "    <tr>\n",
       "      <th>9</th>\n",
       "      <td>1909.11692</td>\n",
       "      <td>Q</td>\n",
       "      <td>1</td>\n",
       "      <td>2019</td>\n",
       "      <td>1</td>\n",
       "    </tr>\n",
       "  </tbody>\n",
       "</table>\n",
       "</div>"
      ],
      "text/plain": [
       "           arXiv_id author  rsp  year  length_auth\n",
       "0         1311.0064      2    1  2013            1\n",
       "1  cond-mat/0602531      .    1  2006            1\n",
       "2  cond-mat/0307090      .    1  2003            1\n",
       "3         1204.6071      1    1  2012            1\n",
       "4         1006.1851      .    1  2010            1\n",
       "5         1002.3276      .    1  2010            1\n",
       "6  cond-mat/0512080      .    1  2005            1\n",
       "7          710.0054      ;    1  2007            1\n",
       "8        1611.04355      a    1  2016            1\n",
       "9        1909.11692      Q    1  2019            1"
      ]
     },
     "execution_count": 87,
     "metadata": {},
     "output_type": "execute_result"
    }
   ],
   "source": [
    "# sort by length of author's name\n",
    "pdf_net['length_auth'] = pdf_net['author'].apply(len)\n",
    "pdf_net.sort_values(by = 'length_auth', ascending = True, inplace = True)\n",
    "pdf_net.reset_index(drop=True, inplace = True)\n",
    "print(\"Data size:\", pdf_net.shape)\n",
    "pdf_net.head(10)"
   ]
  },
  {
   "cell_type": "code",
   "execution_count": 88,
   "metadata": {},
   "outputs": [
    {
     "data": {
      "text/html": [
       "<div>\n",
       "<style scoped>\n",
       "    .dataframe tbody tr th:only-of-type {\n",
       "        vertical-align: middle;\n",
       "    }\n",
       "\n",
       "    .dataframe tbody tr th {\n",
       "        vertical-align: top;\n",
       "    }\n",
       "\n",
       "    .dataframe thead th {\n",
       "        text-align: right;\n",
       "    }\n",
       "</style>\n",
       "<table border=\"1\" class=\"dataframe\">\n",
       "  <thead>\n",
       "    <tr style=\"text-align: right;\">\n",
       "      <th></th>\n",
       "      <th>arXiv_id</th>\n",
       "      <th>author</th>\n",
       "      <th>rsp</th>\n",
       "      <th>year</th>\n",
       "      <th>length_auth</th>\n",
       "    </tr>\n",
       "  </thead>\n",
       "  <tbody>\n",
       "    <tr>\n",
       "      <th>1148160</th>\n",
       "      <td>1409.0152</td>\n",
       "      <td>CorredorL. T.Departamento de Física, Universid...</td>\n",
       "      <td>1</td>\n",
       "      <td>2014</td>\n",
       "      <td>315</td>\n",
       "    </tr>\n",
       "    <tr>\n",
       "      <th>1148161</th>\n",
       "      <td>1509.00973</td>\n",
       "      <td>TanakaIsaoDepartment of Materials Science and ...</td>\n",
       "      <td>1</td>\n",
       "      <td>2015</td>\n",
       "      <td>316</td>\n",
       "    </tr>\n",
       "    <tr>\n",
       "      <th>1148162</th>\n",
       "      <td>1712.01738</td>\n",
       "      <td>SchubertMathiasTerahertz Materials Analysis Ce...</td>\n",
       "      <td>1</td>\n",
       "      <td>2017</td>\n",
       "      <td>319</td>\n",
       "    </tr>\n",
       "    <tr>\n",
       "      <th>1148163</th>\n",
       "      <td>2001.08494</td>\n",
       "      <td>DekkerRiande IInstitut für Physik, Johannes Gu...</td>\n",
       "      <td>1</td>\n",
       "      <td>2020</td>\n",
       "      <td>320</td>\n",
       "    </tr>\n",
       "    <tr>\n",
       "      <th>1148164</th>\n",
       "      <td>2006.15161</td>\n",
       "      <td>PalaciosPabloDepartamento de Física Aplicada a...</td>\n",
       "      <td>1</td>\n",
       "      <td>2020</td>\n",
       "      <td>330</td>\n",
       "    </tr>\n",
       "    <tr>\n",
       "      <th>1148165</th>\n",
       "      <td>2006.14689</td>\n",
       "      <td>RobinsonJoshua A.Department of Materials Scien...</td>\n",
       "      <td>1</td>\n",
       "      <td>2020</td>\n",
       "      <td>333</td>\n",
       "    </tr>\n",
       "    <tr>\n",
       "      <th>1148166</th>\n",
       "      <td>2009.01111</td>\n",
       "      <td>CrespiVincent H.Department of Materials Scienc...</td>\n",
       "      <td>1</td>\n",
       "      <td>2020</td>\n",
       "      <td>359</td>\n",
       "    </tr>\n",
       "    <tr>\n",
       "      <th>1148167</th>\n",
       "      <td>2001.06664</td>\n",
       "      <td>PeiYujuanNingbo Institute of Materials Technol...</td>\n",
       "      <td>1</td>\n",
       "      <td>2020</td>\n",
       "      <td>365</td>\n",
       "    </tr>\n",
       "    <tr>\n",
       "      <th>1148168</th>\n",
       "      <td>1801.0196</td>\n",
       "      <td>PanNanHefei National Laboratory for Physical S...</td>\n",
       "      <td>1</td>\n",
       "      <td>2018</td>\n",
       "      <td>398</td>\n",
       "    </tr>\n",
       "    <tr>\n",
       "      <th>1148169</th>\n",
       "      <td>1801.0196</td>\n",
       "      <td>WangXiaopingHefei National Laboratory for Phys...</td>\n",
       "      <td>1</td>\n",
       "      <td>2018</td>\n",
       "      <td>404</td>\n",
       "    </tr>\n",
       "  </tbody>\n",
       "</table>\n",
       "</div>"
      ],
      "text/plain": [
       "           arXiv_id                                             author  rsp  \\\n",
       "1148160   1409.0152  CorredorL. T.Departamento de Física, Universid...    1   \n",
       "1148161  1509.00973  TanakaIsaoDepartment of Materials Science and ...    1   \n",
       "1148162  1712.01738  SchubertMathiasTerahertz Materials Analysis Ce...    1   \n",
       "1148163  2001.08494  DekkerRiande IInstitut für Physik, Johannes Gu...    1   \n",
       "1148164  2006.15161  PalaciosPabloDepartamento de Física Aplicada a...    1   \n",
       "1148165  2006.14689  RobinsonJoshua A.Department of Materials Scien...    1   \n",
       "1148166  2009.01111  CrespiVincent H.Department of Materials Scienc...    1   \n",
       "1148167  2001.06664  PeiYujuanNingbo Institute of Materials Technol...    1   \n",
       "1148168   1801.0196  PanNanHefei National Laboratory for Physical S...    1   \n",
       "1148169   1801.0196  WangXiaopingHefei National Laboratory for Phys...    1   \n",
       "\n",
       "         year  length_auth  \n",
       "1148160  2014          315  \n",
       "1148161  2015          316  \n",
       "1148162  2017          319  \n",
       "1148163  2020          320  \n",
       "1148164  2020          330  \n",
       "1148165  2020          333  \n",
       "1148166  2020          359  \n",
       "1148167  2020          365  \n",
       "1148168  2018          398  \n",
       "1148169  2018          404  "
      ]
     },
     "execution_count": 88,
     "metadata": {},
     "output_type": "execute_result"
    }
   ],
   "source": [
    "pdf_net.tail(10)"
   ]
  },
  {
   "cell_type": "markdown",
   "metadata": {},
   "source": [
    "# Preprocessing of network data\n",
    "\n",
    "The dataframe above suggests further cleaning as some author's names appear with the corresponding affiliation institutions, and others names are just numbers, special characters, and punctuations. The former will be normalized and the latter will be removed.  The following preprocessing steps will be performed on the edgelist dataframe:\n",
    "\n",
    "1. Split author's names at white space followed by period puntuation mark.\n",
    "2. Identify other words to split on, such as Department, University, etc.\n",
    "3. Remove special characters and punctuations from author's name\n",
    "4. Remove author's name with length < 3\n",
    "5. Identify the same author with two or more different name formats, and normalize the names"
   ]
  },
  {
   "cell_type": "code",
   "execution_count": 89,
   "metadata": {},
   "outputs": [],
   "source": [
    "df_pro = pdf_net.copy()"
   ]
  },
  {
   "cell_type": "code",
   "execution_count": 90,
   "metadata": {},
   "outputs": [],
   "source": [
    "def tokenizer(text):\n",
    "    \"\"\"\n",
    "    tokenizer removes special characters and punctuations\n",
    "\n",
    "    Parameters\n",
    "    ----------\n",
    "    text: a string of texts or sentences\n",
    "\n",
    "    Returns\n",
    "    ----------\n",
    "    text without special characters and punctuations \n",
    "    \"\"\"\n",
    "    symbols = string.punctuation + '0123456789\\n'\n",
    "    nospe_char = [char for char in text if char not in symbols]\n",
    "    nospe_char = ''.join(nospe_char)\n",
    "    return nospe_char"
   ]
  },
  {
   "cell_type": "code",
   "execution_count": 91,
   "metadata": {},
   "outputs": [],
   "source": [
    "def split_extract(text, split_on = None):\n",
    "    \"\"\"\n",
    "    Split text and extract the first element.\n",
    "    \n",
    "    Parameters\n",
    "    ----------\n",
    "    text: a string of texts or sentences\n",
    "    split_on: string to split on\n",
    "\n",
    "    Returns\n",
    "    ----------\n",
    "    first element in text\n",
    "    \"\"\"\n",
    "    text = text.split(split_on)\n",
    "    return text[0]"
   ]
  },
  {
   "cell_type": "code",
   "execution_count": 165,
   "metadata": {},
   "outputs": [],
   "source": [
    "df_pro.author = df_pro.author.apply(split_extract, args = (\" \",))"
   ]
  },
  {
   "cell_type": "code",
   "execution_count": 168,
   "metadata": {},
   "outputs": [
    {
     "data": {
      "text/html": [
       "<div>\n",
       "<style scoped>\n",
       "    .dataframe tbody tr th:only-of-type {\n",
       "        vertical-align: middle;\n",
       "    }\n",
       "\n",
       "    .dataframe tbody tr th {\n",
       "        vertical-align: top;\n",
       "    }\n",
       "\n",
       "    .dataframe thead th {\n",
       "        text-align: right;\n",
       "    }\n",
       "</style>\n",
       "<table border=\"1\" class=\"dataframe\">\n",
       "  <thead>\n",
       "    <tr style=\"text-align: right;\">\n",
       "      <th></th>\n",
       "      <th>arXiv_id</th>\n",
       "      <th>author</th>\n",
       "      <th>rsp</th>\n",
       "      <th>year</th>\n",
       "      <th>length_auth</th>\n",
       "    </tr>\n",
       "  </thead>\n",
       "  <tbody>\n",
       "    <tr>\n",
       "      <th>1118791</th>\n",
       "      <td>1208.4232</td>\n",
       "      <td>ManjavacasAlejandro</td>\n",
       "      <td>1</td>\n",
       "      <td>2012</td>\n",
       "      <td>19</td>\n",
       "    </tr>\n",
       "    <tr>\n",
       "      <th>1118792</th>\n",
       "      <td>1202.4394</td>\n",
       "      <td>SuzukiNorikazuNihon</td>\n",
       "      <td>1</td>\n",
       "      <td>2012</td>\n",
       "      <td>19</td>\n",
       "    </tr>\n",
       "    <tr>\n",
       "      <th>1118793</th>\n",
       "      <td>1902.09249</td>\n",
       "      <td>LiermannHanns-Peter</td>\n",
       "      <td>1</td>\n",
       "      <td>2019</td>\n",
       "      <td>19</td>\n",
       "    </tr>\n",
       "    <tr>\n",
       "      <th>1118794</th>\n",
       "      <td>cond-mat/0506088</td>\n",
       "      <td>BhattacharyaSomnath</td>\n",
       "      <td>1</td>\n",
       "      <td>2005</td>\n",
       "      <td>19</td>\n",
       "    </tr>\n",
       "    <tr>\n",
       "      <th>1118795</th>\n",
       "      <td>1207.2788</td>\n",
       "      <td>Gomez-GardeñesJesus</td>\n",
       "      <td>1</td>\n",
       "      <td>2012</td>\n",
       "      <td>19</td>\n",
       "    </tr>\n",
       "    <tr>\n",
       "      <th>1118796</th>\n",
       "      <td>2003.05713</td>\n",
       "      <td>Caroca-CanalesNubia</td>\n",
       "      <td>1</td>\n",
       "      <td>2020</td>\n",
       "      <td>19</td>\n",
       "    </tr>\n",
       "    <tr>\n",
       "      <th>1118797</th>\n",
       "      <td>802.4419</td>\n",
       "      <td>MunarrizJavierBIFI-</td>\n",
       "      <td>1</td>\n",
       "      <td>2008</td>\n",
       "      <td>19</td>\n",
       "    </tr>\n",
       "    <tr>\n",
       "      <th>1118798</th>\n",
       "      <td>1211.7265</td>\n",
       "      <td>WeidemüllerMatthias</td>\n",
       "      <td>1</td>\n",
       "      <td>2012</td>\n",
       "      <td>19</td>\n",
       "    </tr>\n",
       "    <tr>\n",
       "      <th>1118799</th>\n",
       "      <td>2006.12181</td>\n",
       "      <td>RadenovicAleksandra</td>\n",
       "      <td>1</td>\n",
       "      <td>2020</td>\n",
       "      <td>19</td>\n",
       "    </tr>\n",
       "    <tr>\n",
       "      <th>1118800</th>\n",
       "      <td>904.0659</td>\n",
       "      <td>KulakowskiKrzysztof</td>\n",
       "      <td>1</td>\n",
       "      <td>2009</td>\n",
       "      <td>19</td>\n",
       "    </tr>\n",
       "  </tbody>\n",
       "</table>\n",
       "</div>"
      ],
      "text/plain": [
       "                 arXiv_id               author  rsp  year  length_auth\n",
       "1118791         1208.4232  ManjavacasAlejandro    1  2012           19\n",
       "1118792         1202.4394  SuzukiNorikazuNihon    1  2012           19\n",
       "1118793        1902.09249  LiermannHanns-Peter    1  2019           19\n",
       "1118794  cond-mat/0506088  BhattacharyaSomnath    1  2005           19\n",
       "1118795         1207.2788  Gomez-GardeñesJesus    1  2012           19\n",
       "1118796        2003.05713  Caroca-CanalesNubia    1  2020           19\n",
       "1118797          802.4419  MunarrizJavierBIFI-    1  2008           19\n",
       "1118798         1211.7265  WeidemüllerMatthias    1  2012           19\n",
       "1118799        2006.12181  RadenovicAleksandra    1  2020           19\n",
       "1118800          904.0659  KulakowskiKrzysztof    1  2009           19"
      ]
     },
     "execution_count": 168,
     "metadata": {},
     "output_type": "execute_result"
    }
   ],
   "source": [
    "df_pro['length_auth'] = df_pro['author'].apply(len)\n",
    "df_pro.sort_values(by = 'length_auth', ascending = True, inplace = True)\n",
    "df_pro.reset_index(drop=True, inplace = True)\n",
    "df_pro.tail(10)"
   ]
  },
  {
   "cell_type": "code",
   "execution_count": 169,
   "metadata": {},
   "outputs": [
    {
     "name": "stdout",
     "output_type": "stream",
     "text": [
      "Data size: (1148170, 5)\n"
     ]
    },
    {
     "data": {
      "text/html": [
       "<div>\n",
       "<style scoped>\n",
       "    .dataframe tbody tr th:only-of-type {\n",
       "        vertical-align: middle;\n",
       "    }\n",
       "\n",
       "    .dataframe tbody tr th {\n",
       "        vertical-align: top;\n",
       "    }\n",
       "\n",
       "    .dataframe thead th {\n",
       "        text-align: right;\n",
       "    }\n",
       "</style>\n",
       "<table border=\"1\" class=\"dataframe\">\n",
       "  <thead>\n",
       "    <tr style=\"text-align: right;\">\n",
       "      <th></th>\n",
       "      <th>arXiv_id</th>\n",
       "      <th>author</th>\n",
       "      <th>rsp</th>\n",
       "      <th>year</th>\n",
       "      <th>length_auth</th>\n",
       "    </tr>\n",
       "  </thead>\n",
       "  <tbody>\n",
       "    <tr>\n",
       "      <th>1118796</th>\n",
       "      <td>2003.05713</td>\n",
       "      <td>Caroca-CanalesNubia</td>\n",
       "      <td>1</td>\n",
       "      <td>2020</td>\n",
       "      <td>19</td>\n",
       "    </tr>\n",
       "    <tr>\n",
       "      <th>1118797</th>\n",
       "      <td>802.4419</td>\n",
       "      <td>MunarrizJavierBIFI-</td>\n",
       "      <td>1</td>\n",
       "      <td>2008</td>\n",
       "      <td>19</td>\n",
       "    </tr>\n",
       "    <tr>\n",
       "      <th>1118798</th>\n",
       "      <td>1211.7265</td>\n",
       "      <td>WeidemüllerMatthias</td>\n",
       "      <td>1</td>\n",
       "      <td>2012</td>\n",
       "      <td>19</td>\n",
       "    </tr>\n",
       "    <tr>\n",
       "      <th>1118799</th>\n",
       "      <td>2006.12181</td>\n",
       "      <td>RadenovicAleksandra</td>\n",
       "      <td>1</td>\n",
       "      <td>2020</td>\n",
       "      <td>19</td>\n",
       "    </tr>\n",
       "    <tr>\n",
       "      <th>1118800</th>\n",
       "      <td>904.0659</td>\n",
       "      <td>KulakowskiKrzysztof</td>\n",
       "      <td>1</td>\n",
       "      <td>2009</td>\n",
       "      <td>19</td>\n",
       "    </tr>\n",
       "  </tbody>\n",
       "</table>\n",
       "</div>"
      ],
      "text/plain": [
       "           arXiv_id               author  rsp  year  length_auth\n",
       "1118796  2003.05713  Caroca-CanalesNubia    1  2020           19\n",
       "1118797    802.4419  MunarrizJavierBIFI-    1  2008           19\n",
       "1118798   1211.7265  WeidemüllerMatthias    1  2012           19\n",
       "1118799  2006.12181  RadenovicAleksandra    1  2020           19\n",
       "1118800    904.0659  KulakowskiKrzysztof    1  2009           19"
      ]
     },
     "execution_count": 169,
     "metadata": {},
     "output_type": "execute_result"
    }
   ],
   "source": [
    "# select authors with 2 < length < 20\n",
    "df_pro = df_pro[(df_pro.length_auth>2)&(df_pro.length_auth<20)]\n",
    "print(\"Data size:\", pdf_net.shape)\n",
    "df_pro.tail()"
   ]
  },
  {
   "cell_type": "code",
   "execution_count": 170,
   "metadata": {},
   "outputs": [],
   "source": [
    "# save as csv\n",
    "df_pro.to_csv('../data/in_progress.csv', sep = '\\t', index = False)"
   ]
  },
  {
   "cell_type": "code",
   "execution_count": 171,
   "metadata": {
    "tags": []
   },
   "outputs": [],
   "source": [
    "# df_pro.author = df_pro.author.apply(tokenizer)"
   ]
  },
  {
   "cell_type": "code",
   "execution_count": 172,
   "metadata": {},
   "outputs": [],
   "source": [
    "# df_pro[df_pro.author == 'SankaranarayananS. K. R. S.']\n",
    "# df_pro.author.replace({'SankaranarayananS. K. R. S.':'SankaranarayananSubramanian K. R. S.'},\n",
    "# inplace = True)"
   ]
  },
  {
   "cell_type": "code",
   "execution_count": 173,
   "metadata": {},
   "outputs": [],
   "source": [
    "# create Spark dataframe\n",
    "sdf = spark.createDataFrame(df_pro)\n",
    "sdf.createOrReplaceTempView('table')"
   ]
  },
  {
   "cell_type": "code",
   "execution_count": 174,
   "metadata": {},
   "outputs": [
    {
     "name": "stdout",
     "output_type": "stream",
     "text": [
      "+--------------+\n",
      "|        author|\n",
      "+--------------+\n",
      "|    LossDaniel|\n",
      "|LossDanielUniv|\n",
      "|   LossDanielU|\n",
      "|         LossM|\n",
      "| LossDanielIBM|\n",
      "|   LossMichael|\n",
      "+--------------+\n",
      "\n"
     ]
    }
   ],
   "source": [
    "spark.sql(\" select distinct author from table where author like 'Loss%' \").show(50)"
   ]
  },
  {
   "cell_type": "code",
   "execution_count": 175,
   "metadata": {},
   "outputs": [],
   "source": [
    "# Author's name normalization\n",
    "auth_dict = {'WatanabeK':'WatanabeKenji', 'TaniguchiT': 'TaniguchiTakashi', \n",
    "             'LossD':'LossDaniel', 'LossDanielBasel':'LossDaniel',\n",
    "             'LossDanielBasel,':'LossDaniel', 'LossDanielUniv,':'LossDaniel',\n",
    "             'LossDanielU,':'LossDaniel', 'LossDanielIBM,':'LossDaniel', \n",
    "             'OwerreSolomon A': 'OwerreS A', \n",
    "             'OwerreSolomon Akaraka': 'OwerreS A', 'BiWenli': 'BiW',\n",
    "             'DasSarmaS': 'SarmaS Das'\n",
    "            }\n",
    "df_pro.author.replace(auth_dict, inplace = True)"
   ]
  },
  {
   "cell_type": "code",
   "execution_count": 176,
   "metadata": {},
   "outputs": [],
   "source": [
    "# save as csv\n",
    "df_pro.to_csv('../data/network_data.csv', sep = '\\t', index = False)"
   ]
  },
  {
   "cell_type": "code",
   "execution_count": null,
   "metadata": {},
   "outputs": [],
   "source": []
  }
 ],
 "metadata": {
  "kernelspec": {
   "display_name": "Python 3",
   "language": "python",
   "name": "python3"
  },
  "language_info": {
   "codemirror_mode": {
    "name": "ipython",
    "version": 3
   },
   "file_extension": ".py",
   "mimetype": "text/x-python",
   "name": "python",
   "nbconvert_exporter": "python",
   "pygments_lexer": "ipython3",
   "version": "3.9.4"
  },
  "metadata": {
   "interpreter": {
    "hash": "aee8b7b246df8f9039afb4144a1f6fd8d2ca17a180786b69acc140d282b71a49"
   }
  }
 },
 "nbformat": 4,
 "nbformat_minor": 4
}
