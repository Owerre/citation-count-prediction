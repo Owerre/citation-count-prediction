{
 "cells": [
  {
   "cell_type": "markdown",
   "metadata": {},
   "source": [
    "# Data Cleaning"
   ]
  },
  {
   "cell_type": "code",
   "execution_count": 1,
   "metadata": {
    "tags": []
   },
   "outputs": [],
   "source": [
    "# Ignore deprecated warning\n",
    "import warnings\n",
    "warnings.filterwarnings(\"ignore\")\n",
    "\n",
    "# Data manipulation\n",
    "%matplotlib inline\n",
    "import pandas as pd\n",
    "import numpy as np\n",
    "import ast\n",
    "import string\n",
    "\n",
    "# Pyspark modules\n",
    "from pyspark.sql import SparkSession\n",
    "from pyspark import sql, SparkContext, SparkConf\n",
    "from pyspark.sql.functions import *"
   ]
  },
  {
   "cell_type": "code",
   "execution_count": 2,
   "metadata": {},
   "outputs": [],
   "source": [
    "# Create spark session\n",
    "spark = SparkSession.builder.appName(\"project\").getOrCreate()"
   ]
  },
  {
   "cell_type": "markdown",
   "metadata": {},
   "source": [
    "# Load raw data"
   ]
  },
  {
   "cell_type": "code",
   "execution_count": 4,
   "metadata": {},
   "outputs": [
    {
     "name": "stdout",
     "output_type": "stream",
     "text": [
      "Data size: (295174, 20)\n"
     ]
    },
    {
     "data": {
      "text/html": [
       "<div>\n",
       "<style scoped>\n",
       "    .dataframe tbody tr th:only-of-type {\n",
       "        vertical-align: middle;\n",
       "    }\n",
       "\n",
       "    .dataframe tbody tr th {\n",
       "        vertical-align: top;\n",
       "    }\n",
       "\n",
       "    .dataframe thead th {\n",
       "        text-align: right;\n",
       "    }\n",
       "</style>\n",
       "<table border=\"1\" class=\"dataframe\">\n",
       "  <thead>\n",
       "    <tr style=\"text-align: right;\">\n",
       "      <th></th>\n",
       "      <th>arXiv_id</th>\n",
       "      <th>year</th>\n",
       "      <th>authors</th>\n",
       "      <th>title</th>\n",
       "    </tr>\n",
       "  </thead>\n",
       "  <tbody>\n",
       "    <tr>\n",
       "      <th>285558</th>\n",
       "      <td>cond-mat/9909037</td>\n",
       "      <td>1999</td>\n",
       "      <td>['de MelloE. V. L.']</td>\n",
       "      <td>Crossover behavior for complex order parameter...</td>\n",
       "    </tr>\n",
       "    <tr>\n",
       "      <th>92698</th>\n",
       "      <td>1404.7371</td>\n",
       "      <td>2014</td>\n",
       "      <td>['SchulzFabian', 'DrostRobert', 'HämäläinenSam...</td>\n",
       "      <td>Epitaxial hexagonal boron nitride on Ir(111): ...</td>\n",
       "    </tr>\n",
       "    <tr>\n",
       "      <th>277004</th>\n",
       "      <td>cond-mat/9711270</td>\n",
       "      <td>1997</td>\n",
       "      <td>['MirandaJose A.Department of Physics-Carnegie...</td>\n",
       "      <td>Weakly nonlinear investigation of the Saffman-...</td>\n",
       "    </tr>\n",
       "    <tr>\n",
       "      <th>118575</th>\n",
       "      <td>1511.08186</td>\n",
       "      <td>2015</td>\n",
       "      <td>['PanY.', 'NikitinA. M.', 'WuD.', 'HuangY. K.'...</td>\n",
       "      <td>Quantum oscillations of the topological surfac...</td>\n",
       "    </tr>\n",
       "    <tr>\n",
       "      <th>87601</th>\n",
       "      <td>1312.7058</td>\n",
       "      <td>2013</td>\n",
       "      <td>['KumarPradeep', 'GharaS.', 'RajeswaranB.', 'M...</td>\n",
       "      <td>Temperature dependent magnetic, dielectric and...</td>\n",
       "    </tr>\n",
       "  </tbody>\n",
       "</table>\n",
       "</div>"
      ],
      "text/plain": [
       "                arXiv_id  year  \\\n",
       "285558  cond-mat/9909037  1999   \n",
       "92698          1404.7371  2014   \n",
       "277004  cond-mat/9711270  1997   \n",
       "118575        1511.08186  2015   \n",
       "87601          1312.7058  2013   \n",
       "\n",
       "                                                  authors  \\\n",
       "285558                               ['de MelloE. V. L.']   \n",
       "92698   ['SchulzFabian', 'DrostRobert', 'HämäläinenSam...   \n",
       "277004  ['MirandaJose A.Department of Physics-Carnegie...   \n",
       "118575  ['PanY.', 'NikitinA. M.', 'WuD.', 'HuangY. K.'...   \n",
       "87601   ['KumarPradeep', 'GharaS.', 'RajeswaranB.', 'M...   \n",
       "\n",
       "                                                    title  \n",
       "285558  Crossover behavior for complex order parameter...  \n",
       "92698   Epitaxial hexagonal boron nitride on Ir(111): ...  \n",
       "277004  Weakly nonlinear investigation of the Saffman-...  \n",
       "118575  Quantum oscillations of the topological surfac...  \n",
       "87601   Temperature dependent magnetic, dielectric and...  "
      ]
     },
     "execution_count": 4,
     "metadata": {},
     "output_type": "execute_result"
    }
   ],
   "source": [
    "base_path = ''\n",
    "df = pd.read_csv(base_path + \"/arXiv_papers/data/data_processed.csv\", sep = '\\t')\n",
    "\n",
    "df = df[list(df.columns)].astype(str) # convert to string\n",
    "\n",
    "print(\"Data size:\", df.shape)\n",
    "cols = ['arXiv_id', 'year','authors', 'title']\n",
    "df[cols].sample(frac = 1).head()"
   ]
  },
  {
   "cell_type": "markdown",
   "metadata": {},
   "source": [
    "# Preprocessing of raw data\n",
    "The authors column is a string representation of a list, which needs to be converted to a list of authors"
   ]
  },
  {
   "cell_type": "code",
   "execution_count": 5,
   "metadata": {},
   "outputs": [],
   "source": [
    "def string_to_list(x):\n",
    "    \"\"\"\n",
    "    Convert string representation of list to a list\n",
    "    \n",
    "    Parameter\n",
    "    ---------\n",
    "    x: string representation of list. E.g. x = '[ \"a\",\"b\",\"c\" ]'\n",
    "    \n",
    "    Returns\n",
    "    -------\n",
    "    list of strings. E.g. x = [\"a\",\"b\",\"c\"]\n",
    "    \n",
    "    \"\"\"\n",
    "    x = ast.literal_eval(x)\n",
    "    return x"
   ]
  },
  {
   "cell_type": "code",
   "execution_count": 6,
   "metadata": {},
   "outputs": [],
   "source": [
    "df.authors = df.authors.apply(string_to_list)"
   ]
  },
  {
   "cell_type": "markdown",
   "metadata": {},
   "source": [
    "# Edgelist dataframe\n",
    "Paper-author edgelist dataframe to be used in network analytics"
   ]
  },
  {
   "cell_type": "code",
   "execution_count": 8,
   "metadata": {},
   "outputs": [],
   "source": [
    "# list of papers & authors\n",
    "paper_author_list =[] \n",
    "for i in np.arange(len(df)):\n",
    "    content =(df.arXiv_id.iloc[i], df.authors.iloc[i])\n",
    "    paper_author_list.append(content)"
   ]
  },
  {
   "cell_type": "code",
   "execution_count": 9,
   "metadata": {},
   "outputs": [],
   "source": [
    "# create edge list dataframe\n",
    "pdf_net = pd.concat(\n",
    "    [pd.DataFrame({'arXiv_id':paper_author_list[i][0], \n",
    "                   'author':paper_author_list[i][1], \n",
    "                   'rsp': 1}) \n",
    "     for i, val in enumerate(paper_author_list)\n",
    "    ],\n",
    "    ignore_index = True\n",
    ")"
   ]
  },
  {
   "cell_type": "code",
   "execution_count": 10,
   "metadata": {},
   "outputs": [],
   "source": [
    "pdf_net = pdf_net.merge(df[['arXiv_id', 'year']], how = 'left', on = ['arXiv_id'])"
   ]
  },
  {
   "cell_type": "code",
   "execution_count": 28,
   "metadata": {},
   "outputs": [
    {
     "name": "stdout",
     "output_type": "stream",
     "text": [
      "Data size: (1148170, 5)\n"
     ]
    },
    {
     "data": {
      "text/html": [
       "<div>\n",
       "<style scoped>\n",
       "    .dataframe tbody tr th:only-of-type {\n",
       "        vertical-align: middle;\n",
       "    }\n",
       "\n",
       "    .dataframe tbody tr th {\n",
       "        vertical-align: top;\n",
       "    }\n",
       "\n",
       "    .dataframe thead th {\n",
       "        text-align: right;\n",
       "    }\n",
       "</style>\n",
       "<table border=\"1\" class=\"dataframe\">\n",
       "  <thead>\n",
       "    <tr style=\"text-align: right;\">\n",
       "      <th></th>\n",
       "      <th>arXiv_id</th>\n",
       "      <th>author</th>\n",
       "      <th>rsp</th>\n",
       "      <th>year</th>\n",
       "      <th>length_auth</th>\n",
       "    </tr>\n",
       "  </thead>\n",
       "  <tbody>\n",
       "    <tr>\n",
       "      <th>0</th>\n",
       "      <td>1311.0064</td>\n",
       "      <td>2</td>\n",
       "      <td>1</td>\n",
       "      <td>2013</td>\n",
       "      <td>1</td>\n",
       "    </tr>\n",
       "    <tr>\n",
       "      <th>1</th>\n",
       "      <td>907.2325</td>\n",
       "      <td>.</td>\n",
       "      <td>1</td>\n",
       "      <td>2009</td>\n",
       "      <td>1</td>\n",
       "    </tr>\n",
       "    <tr>\n",
       "      <th>2</th>\n",
       "      <td>cond-mat/0306301</td>\n",
       "      <td>;</td>\n",
       "      <td>1</td>\n",
       "      <td>2003</td>\n",
       "      <td>1</td>\n",
       "    </tr>\n",
       "    <tr>\n",
       "      <th>3</th>\n",
       "      <td>1011.4227</td>\n",
       "      <td>3</td>\n",
       "      <td>1</td>\n",
       "      <td>2010</td>\n",
       "      <td>1</td>\n",
       "    </tr>\n",
       "    <tr>\n",
       "      <th>4</th>\n",
       "      <td>1710.05813</td>\n",
       "      <td>§</td>\n",
       "      <td>1</td>\n",
       "      <td>2017</td>\n",
       "      <td>1</td>\n",
       "    </tr>\n",
       "    <tr>\n",
       "      <th>5</th>\n",
       "      <td>cond-mat/9803184</td>\n",
       "      <td>.</td>\n",
       "      <td>1</td>\n",
       "      <td>1998</td>\n",
       "      <td>1</td>\n",
       "    </tr>\n",
       "    <tr>\n",
       "      <th>6</th>\n",
       "      <td>1703.08451</td>\n",
       "      <td>.</td>\n",
       "      <td>1</td>\n",
       "      <td>2017</td>\n",
       "      <td>1</td>\n",
       "    </tr>\n",
       "    <tr>\n",
       "      <th>7</th>\n",
       "      <td>cond-mat/0612307</td>\n",
       "      <td>;</td>\n",
       "      <td>1</td>\n",
       "      <td>2006</td>\n",
       "      <td>1</td>\n",
       "    </tr>\n",
       "    <tr>\n",
       "      <th>8</th>\n",
       "      <td>1004.1079</td>\n",
       "      <td>.</td>\n",
       "      <td>1</td>\n",
       "      <td>2010</td>\n",
       "      <td>1</td>\n",
       "    </tr>\n",
       "    <tr>\n",
       "      <th>9</th>\n",
       "      <td>1309.1017</td>\n",
       "      <td>-</td>\n",
       "      <td>1</td>\n",
       "      <td>2013</td>\n",
       "      <td>1</td>\n",
       "    </tr>\n",
       "  </tbody>\n",
       "</table>\n",
       "</div>"
      ],
      "text/plain": [
       "           arXiv_id author  rsp  year  length_auth\n",
       "0         1311.0064      2    1  2013            1\n",
       "1          907.2325      .    1  2009            1\n",
       "2  cond-mat/0306301      ;    1  2003            1\n",
       "3         1011.4227      3    1  2010            1\n",
       "4        1710.05813      §    1  2017            1\n",
       "5  cond-mat/9803184      .    1  1998            1\n",
       "6        1703.08451      .    1  2017            1\n",
       "7  cond-mat/0612307      ;    1  2006            1\n",
       "8         1004.1079      .    1  2010            1\n",
       "9         1309.1017      -    1  2013            1"
      ]
     },
     "execution_count": 28,
     "metadata": {},
     "output_type": "execute_result"
    }
   ],
   "source": [
    "pdf_net['length_auth'] = pdf_net['author'].apply(len)\n",
    "pdf_net.sort_values(by = 'length_auth', ascending = True, inplace = True)\n",
    "pdf_net.reset_index(drop=True, inplace = True)\n",
    "print(\"Data size:\", pdf_net.shape)\n",
    "pdf_net.head(10)"
   ]
  },
  {
   "cell_type": "code",
   "execution_count": 2878,
   "metadata": {},
   "outputs": [
    {
     "data": {
      "text/html": [
       "<div>\n",
       "<style scoped>\n",
       "    .dataframe tbody tr th:only-of-type {\n",
       "        vertical-align: middle;\n",
       "    }\n",
       "\n",
       "    .dataframe tbody tr th {\n",
       "        vertical-align: top;\n",
       "    }\n",
       "\n",
       "    .dataframe thead th {\n",
       "        text-align: right;\n",
       "    }\n",
       "</style>\n",
       "<table border=\"1\" class=\"dataframe\">\n",
       "  <thead>\n",
       "    <tr style=\"text-align: right;\">\n",
       "      <th></th>\n",
       "      <th>arXiv_id</th>\n",
       "      <th>author</th>\n",
       "      <th>rsp</th>\n",
       "      <th>year</th>\n",
       "      <th>length_auth</th>\n",
       "    </tr>\n",
       "  </thead>\n",
       "  <tbody>\n",
       "    <tr>\n",
       "      <th>1148160</th>\n",
       "      <td>1409.0152</td>\n",
       "      <td>CorredorL. T.Departamento de Física, Universid...</td>\n",
       "      <td>1</td>\n",
       "      <td>2014</td>\n",
       "      <td>315</td>\n",
       "    </tr>\n",
       "    <tr>\n",
       "      <th>1148161</th>\n",
       "      <td>1509.00973</td>\n",
       "      <td>TanakaIsaoDepartment of Materials Science and ...</td>\n",
       "      <td>1</td>\n",
       "      <td>2015</td>\n",
       "      <td>316</td>\n",
       "    </tr>\n",
       "    <tr>\n",
       "      <th>1148162</th>\n",
       "      <td>1712.01738</td>\n",
       "      <td>SchubertMathiasTerahertz Materials Analysis Ce...</td>\n",
       "      <td>1</td>\n",
       "      <td>2017</td>\n",
       "      <td>319</td>\n",
       "    </tr>\n",
       "    <tr>\n",
       "      <th>1148163</th>\n",
       "      <td>2001.08494</td>\n",
       "      <td>DekkerRiande IInstitut für Physik, Johannes Gu...</td>\n",
       "      <td>1</td>\n",
       "      <td>2020</td>\n",
       "      <td>320</td>\n",
       "    </tr>\n",
       "    <tr>\n",
       "      <th>1148164</th>\n",
       "      <td>2006.15161</td>\n",
       "      <td>PalaciosPabloDepartamento de Física Aplicada a...</td>\n",
       "      <td>1</td>\n",
       "      <td>2020</td>\n",
       "      <td>330</td>\n",
       "    </tr>\n",
       "    <tr>\n",
       "      <th>1148165</th>\n",
       "      <td>2006.14689</td>\n",
       "      <td>RobinsonJoshua A.Department of Materials Scien...</td>\n",
       "      <td>1</td>\n",
       "      <td>2020</td>\n",
       "      <td>333</td>\n",
       "    </tr>\n",
       "    <tr>\n",
       "      <th>1148166</th>\n",
       "      <td>2009.01111</td>\n",
       "      <td>CrespiVincent H.Department of Materials Scienc...</td>\n",
       "      <td>1</td>\n",
       "      <td>2020</td>\n",
       "      <td>359</td>\n",
       "    </tr>\n",
       "    <tr>\n",
       "      <th>1148167</th>\n",
       "      <td>2001.06664</td>\n",
       "      <td>PeiYujuanNingbo Institute of Materials Technol...</td>\n",
       "      <td>1</td>\n",
       "      <td>2020</td>\n",
       "      <td>365</td>\n",
       "    </tr>\n",
       "    <tr>\n",
       "      <th>1148168</th>\n",
       "      <td>1801.0196</td>\n",
       "      <td>PanNanHefei National Laboratory for Physical S...</td>\n",
       "      <td>1</td>\n",
       "      <td>2018</td>\n",
       "      <td>398</td>\n",
       "    </tr>\n",
       "    <tr>\n",
       "      <th>1148169</th>\n",
       "      <td>1801.0196</td>\n",
       "      <td>WangXiaopingHefei National Laboratory for Phys...</td>\n",
       "      <td>1</td>\n",
       "      <td>2018</td>\n",
       "      <td>404</td>\n",
       "    </tr>\n",
       "  </tbody>\n",
       "</table>\n",
       "</div>"
      ],
      "text/plain": [
       "           arXiv_id                                             author  rsp  \\\n",
       "1148160   1409.0152  CorredorL. T.Departamento de Física, Universid...    1   \n",
       "1148161  1509.00973  TanakaIsaoDepartment of Materials Science and ...    1   \n",
       "1148162  1712.01738  SchubertMathiasTerahertz Materials Analysis Ce...    1   \n",
       "1148163  2001.08494  DekkerRiande IInstitut für Physik, Johannes Gu...    1   \n",
       "1148164  2006.15161  PalaciosPabloDepartamento de Física Aplicada a...    1   \n",
       "1148165  2006.14689  RobinsonJoshua A.Department of Materials Scien...    1   \n",
       "1148166  2009.01111  CrespiVincent H.Department of Materials Scienc...    1   \n",
       "1148167  2001.06664  PeiYujuanNingbo Institute of Materials Technol...    1   \n",
       "1148168   1801.0196  PanNanHefei National Laboratory for Physical S...    1   \n",
       "1148169   1801.0196  WangXiaopingHefei National Laboratory for Phys...    1   \n",
       "\n",
       "         year  length_auth  \n",
       "1148160  2014          315  \n",
       "1148161  2015          316  \n",
       "1148162  2017          319  \n",
       "1148163  2020          320  \n",
       "1148164  2020          330  \n",
       "1148165  2020          333  \n",
       "1148166  2020          359  \n",
       "1148167  2020          365  \n",
       "1148168  2018          398  \n",
       "1148169  2018          404  "
      ]
     },
     "execution_count": 2878,
     "metadata": {},
     "output_type": "execute_result"
    }
   ],
   "source": [
    "pdf_net.tail(10)"
   ]
  },
  {
   "cell_type": "markdown",
   "metadata": {},
   "source": [
    "# Preprocessing of network data\n",
    "\n",
    "From the dataframe above, some authors appear with their affiliation institutes, whereas others names are just numbers, special characters, and punctuations. The former will be normalized and the latter will be removed.  The following preprocessing steps will be performed on the edgelist dataframe:\n",
    "\n",
    "1. Split author's names at period puntuation mark.\n",
    "2. Identify other words to split at such as Department, University, etc.\n",
    "3. Remove special characters and punctuations from author's name\n",
    "4. Remove author's name with length < 3\n",
    "5. Identify same author with two or more different name formats, and normalize the names"
   ]
  },
  {
   "cell_type": "code",
   "execution_count": 2890,
   "metadata": {},
   "outputs": [],
   "source": [
    "df_pro = pdf_net.copy()"
   ]
  },
  {
   "cell_type": "code",
   "execution_count": 2909,
   "metadata": {},
   "outputs": [],
   "source": [
    "def split_extract(text, split_on = None):\n",
    "    \"\"\"\n",
    "    Split text and extract the first element.\n",
    "    \n",
    "    Parameters\n",
    "    ----------\n",
    "    text: a string of texts or sentences\n",
    "    split_on: string to split on\n",
    "\n",
    "    Returns\n",
    "    ----------\n",
    "    first element in text\n",
    "    \"\"\"\n",
    "    text = text.split(split_on)\n",
    "    return text[0]\n",
    "\n",
    "def tokenizer(text):\n",
    "    \"\"\"\n",
    "    tokenizer removes special characters and punctuations\n",
    "\n",
    "    Parameters\n",
    "    ----------\n",
    "    text: a string of texts or sentences\n",
    "\n",
    "    Returns\n",
    "    ----------\n",
    "    text without special characters and punctuations \n",
    "    \"\"\"\n",
    "    symbols = string.punctuation + '0123456789\\n'\n",
    "    nospe_char = [char for char in text if char not in symbols]\n",
    "    nospe_char = ''.join(nospe_char)\n",
    "    return nospe_char"
   ]
  },
  {
   "cell_type": "code",
   "execution_count": 3212,
   "metadata": {},
   "outputs": [],
   "source": [
    "df_pro.author = df_pro.author.apply(split_extract, args = (\"IBM\",))"
   ]
  },
  {
   "cell_type": "code",
   "execution_count": 3213,
   "metadata": {},
   "outputs": [],
   "source": [
    "# df_pro.author = df_pro.author.apply(tokenizer)"
   ]
  },
  {
   "cell_type": "code",
   "execution_count": 3214,
   "metadata": {},
   "outputs": [],
   "source": [
    "# df_prepr[df_prepr.author == 'SankaranarayananS. K. R. S.']\n",
    "# df_prepr.author.replace({'SankaranarayananS. K. R. S.':'SankaranarayananSubramanian K. R. S.'}, inplace = True)"
   ]
  },
  {
   "cell_type": "code",
   "execution_count": 3215,
   "metadata": {},
   "outputs": [],
   "source": [
    "# save as csv\n",
    "df_pro.to_csv('../data/in_progress.csv', sep = '\\t', index = False)"
   ]
  },
  {
   "cell_type": "code",
   "execution_count": 3216,
   "metadata": {},
   "outputs": [],
   "source": [
    "df_pro['length_auth'] = df_pro['author'].apply(len)\n",
    "df_pro.sort_values(by = 'length_auth', ascending = True, inplace = True)\n",
    "df_pro.reset_index(drop=True, inplace = True)\n",
    "# df_pro[df_pro.length_auth == 21]\n",
    "# df_pro[(df_pro.length_auth > 2)&(df_pro.length_auth <= 20)]\n",
    "# df_pro_10 = df_pro[df_pro.year >= '2010'] # from 2010\n",
    "# df_pro_10[df_pro_10.length_auth == 35]"
   ]
  },
  {
   "cell_type": "code",
   "execution_count": 3217,
   "metadata": {},
   "outputs": [],
   "source": [
    "df_net = df_pro[(df_pro.length_auth > 2)&(df_pro.length_auth <= 20)]\n",
    "# # save as csv\n",
    "# df_net.to_csv('../data/network_data.csv', sep = '\\t', index = False)"
   ]
  },
  {
   "cell_type": "code",
   "execution_count": 3218,
   "metadata": {},
   "outputs": [],
   "source": [
    "# Spark dataframe to facilitate sql queries\n",
    "sdf = spark.createDataFrame(df_net)\n",
    "sdf.createOrReplaceTempView('table')"
   ]
  },
  {
   "cell_type": "code",
   "execution_count": 3219,
   "metadata": {},
   "outputs": [
    {
     "data": {
      "text/html": [
       "<div>\n",
       "<style scoped>\n",
       "    .dataframe tbody tr th:only-of-type {\n",
       "        vertical-align: middle;\n",
       "    }\n",
       "\n",
       "    .dataframe tbody tr th {\n",
       "        vertical-align: top;\n",
       "    }\n",
       "\n",
       "    .dataframe thead th {\n",
       "        text-align: right;\n",
       "    }\n",
       "</style>\n",
       "<table border=\"1\" class=\"dataframe\">\n",
       "  <thead>\n",
       "    <tr style=\"text-align: right;\">\n",
       "      <th></th>\n",
       "      <th>arXiv_id</th>\n",
       "      <th>author</th>\n",
       "      <th>rsp</th>\n",
       "      <th>year</th>\n",
       "      <th>length_auth</th>\n",
       "    </tr>\n",
       "  </thead>\n",
       "  <tbody>\n",
       "  </tbody>\n",
       "</table>\n",
       "</div>"
      ],
      "text/plain": [
       "Empty DataFrame\n",
       "Columns: [arXiv_id, author, rsp, year, length_auth]\n",
       "Index: []"
      ]
     },
     "execution_count": 3219,
     "metadata": {},
     "output_type": "execute_result"
    }
   ],
   "source": [
    "# df_pro[df_pro.author == 'LossDanielIBM']"
   ]
  },
  {
   "cell_type": "code",
   "execution_count": 3221,
   "metadata": {},
   "outputs": [
    {
     "name": "stdout",
     "output_type": "stream",
     "text": [
      "+--------------------+\n",
      "|              author|\n",
      "+--------------------+\n",
      "|          TaniguchiS|\n",
      "|          TaniguchiH|\n",
      "|     TaniguchiTakumi|\n",
      "|     TaniguchiTakuya|\n",
      "|    TaniguchiTakaaki|\n",
      "|    TaniguchiNatsumi|\n",
      "|    TaniguchiKeisuke|\n",
      "|      TaniguchiJunko|\n",
      "|   TaniguchiTakanori|\n",
      "|     TaniguchiHiroki|\n",
      "|    TaniguchiDaisuke|\n",
      "|     TaniguchiHiromi|\n",
      "|          TaniguchiT|\n",
      "|  TaniguchiTakahashi|\n",
      "|      TaniguchiTooru|\n",
      "|          TaniguchiK|\n",
      "|     TaniguchiHaruka|\n",
      "|   TaniguchiYasutaka|\n",
      "|    TaniguchiTakeshi|\n",
      "|    TaniguchiTakashi|\n",
      "|  TaniguchiToshifumi|\n",
      "|          TaniguchiN|\n",
      "|          TaniguchiM|\n",
      "|   TaniguchiTomohiro|\n",
      "|   TaniguchiMasateru|\n",
      "|TaniguchiTakashiNIMS|\n",
      "|       TaniguchiKoki|\n",
      "|     TaniguchiMasaki|\n",
      "|   TaniguchiNobuhiko|\n",
      "+--------------------+\n",
      "\n"
     ]
    }
   ],
   "source": [
    "spark.sql(\" select distinct author from table where author like 'Taniguchi%' \").show(50)"
   ]
  },
  {
   "cell_type": "code",
   "execution_count": 3222,
   "metadata": {},
   "outputs": [],
   "source": [
    "# Author's name normalization\n",
    "auth_dict = {'WatanabeK':'WatanabeKenji', 'TaniguchiT': 'TaniguchiTakashi', \n",
    "             'LossD':'LossDaniel', 'LossDanielBasel':'LossDaniel', 'OwerreSolomon A': 'OwerreS A', \n",
    "             'OwerreSolomon Akaraka': 'OwerreS A', 'BiWenli': 'BiW',\n",
    "             'DasSarmaS': 'SarmaS Das'\n",
    "            }\n",
    "df_net.author.replace(auth_dict, inplace = True)"
   ]
  },
  {
   "cell_type": "code",
   "execution_count": 3223,
   "metadata": {},
   "outputs": [
    {
     "name": "stdout",
     "output_type": "stream",
     "text": [
      "Number of unique authors: 243638\n"
     ]
    }
   ],
   "source": [
    "print('Number of unique authors:', len(df_net.author.unique()))"
   ]
  },
  {
   "cell_type": "code",
   "execution_count": 3224,
   "metadata": {},
   "outputs": [],
   "source": [
    "# save as csv\n",
    "df_net.to_csv('../data/network_data.csv', sep = '\\t', index = False)"
   ]
  },
  {
   "cell_type": "code",
   "execution_count": null,
   "metadata": {},
   "outputs": [],
   "source": []
  }
 ],
 "metadata": {
  "kernelspec": {
   "display_name": "Python 3",
   "language": "python",
   "name": "python3"
  },
  "language_info": {
   "codemirror_mode": {
    "name": "ipython",
    "version": 3
   },
   "file_extension": ".py",
   "mimetype": "text/x-python",
   "name": "python",
   "nbconvert_exporter": "python",
   "pygments_lexer": "ipython3",
   "version": "3.9.4"
  },
  "metadata": {
   "interpreter": {
    "hash": "aee8b7b246df8f9039afb4144a1f6fd8d2ca17a180786b69acc140d282b71a49"
   }
  }
 },
 "nbformat": 4,
 "nbformat_minor": 4
}
